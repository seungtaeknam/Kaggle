{
 "metadata": {
  "kernelspec": {
   "language": "python",
   "display_name": "Python 3",
   "name": "python3"
  },
  "language_info": {
   "name": "python",
   "version": "3.10.12",
   "mimetype": "text/x-python",
   "codemirror_mode": {
    "name": "ipython",
    "version": 3
   },
   "pygments_lexer": "ipython3",
   "nbconvert_exporter": "python",
   "file_extension": ".py"
  }
 },
 "nbformat_minor": 4,
 "nbformat": 4,
 "cells": [
  {
   "cell_type": "code",
   "source": [
    "# This Python 3 environment comes with many helpful analytics libraries installed\n",
    "# It is defined by the kaggle/python Docker image: https://github.com/kaggle/docker-python\n",
    "# For example, here's several helpful packages to load\n",
    "#pip install pandas pyarrow\n",
    "\n",
    "import numpy as np # linear algebra\n",
    "import pandas as pd # data processing, CSV file I/O (e.g. pd.read_csv)\n",
    "\n",
    "\n",
    "# Input data files are available in the read-only \"../input/\" directory\n",
    "# For example, running this (by clicking run or pressing Shift+Enter) will list all files under the input directory\n",
    "\n",
    "import os\n",
    "#for dirname, _, filenames in os.walk('/kaggle/input'):\n",
    "#    for filename in filenames:\n",
    "#        print(os.path.join(dirname, filename))\n",
    "\n",
    "# You can write up to 20GB to the current directory (/kaggle/working/) that gets preserved as output when you create a version using \"Save & Run All\" \n",
    "# You can also write temporary files to /kaggle/temp/, but they won't be saved outside of the current session"
   ],
   "metadata": {
    "_uuid": "8f2839f25d086af736a60e9eeb907d3b93b6e0e5",
    "_cell_guid": "b1076dfc-b9ad-4769-8c92-a6c4dae69d19",
    "execution": {
     "iopub.status.busy": "2023-09-06T08:04:40.559837Z",
     "iopub.execute_input": "2023-09-06T08:04:40.560226Z",
     "iopub.status.idle": "2023-09-06T08:04:41.026222Z",
     "shell.execute_reply.started": "2023-09-06T08:04:40.560193Z",
     "shell.execute_reply": "2023-09-06T08:04:41.025053Z"
    },
    "trusted": true
   },
   "execution_count": 1,
   "outputs": []
  },
  {
   "cell_type": "markdown",
   "source": [
    "1. 데이터 셋 불러오기"
   ],
   "metadata": {}
  },
  {
   "cell_type": "code",
   "source": [
    "train = pd.read_parquet('/kaggle/input/icecube-neutrinos-in-deep-ice/train/batch_10.parquet')\n",
    "test = pd.read_parquet('/kaggle/input/icecube-neutrinos-in-deep-ice/test/batch_661.parquet')\n",
    "print(train)"
   ],
   "metadata": {
    "trusted": true
   },
   "execution_count": 2,
   "outputs": []
  },
  {
   "cell_type": "code",
   "source": [
    "import os\n",
    "import pandas as pd\n",
    "\n",
    "train_file_paths = []\n",
    "\n",
    "for dirname, _, filenames in os.walk('/kaggle/input/icecube-neutrinos-in-deep-ice/train'):\n",
    "    for filename in filenames:\n",
    "        train_file_paths.append(os.path.join(dirname, filename))\n",
    "                                              \n",
    "# print(int(file_paths[0].split('/')[-1].split('_')[-1].split('.')[0]))       \n",
    "\n",
    "train_file_paths  = sorted(train_file_paths,key=lambda x: int(x.split('/')[-1].split('_')[-1].split('.')[0]))\n",
    "\n",
    "train =  pd.read_parquet(train_file_paths[0])\n",
    "\\"
   ],
   "metadata": {
    "execution": {
     "iopub.status.busy": "2023-09-06T08:04:49.118278Z",
     "iopub.status.idle": "2023-09-06T08:04:49.118836Z",
     "shell.execute_reply.started": "2023-09-06T08:04:49.118540Z",
     "shell.execute_reply": "2023-09-06T08:04:49.118564Z"
    },
    "trusted": true
   },
   "execution_count": null,
   "outputs": []
  },
  {
   "cell_type": "code",
   "source": [
    "test = pd.read_parquet('/kaggle/input/icecube-neutrinos-in-deep-ice/sample_submission.parquet')\n",
    "test.head(10)"
   ],
   "metadata": {
    "execution": {
     "iopub.status.busy": "2023-09-06T08:08:20.773082Z",
     "iopub.execute_input": "2023-09-06T08:08:20.773488Z",
     "iopub.status.idle": "2023-09-06T08:08:20.792700Z",
     "shell.execute_reply.started": "2023-09-06T08:08:20.773455Z",
     "shell.execute_reply": "2023-09-06T08:08:20.791421Z"
    },
    "trusted": true
   },
   "execution_count": 7,
   "outputs": [
    {
     "execution_count": 7,
     "output_type": "execute_result",
     "data": {
      "text/plain": "   event_id  azimuth  zenith\n0      2092        1       1\n1      7344        1       1\n2      9482        1       1",
      "text/html": "<div>\n<style scoped>\n    .dataframe tbody tr th:only-of-type {\n        vertical-align: middle;\n    }\n\n    .dataframe tbody tr th {\n        vertical-align: top;\n    }\n\n    .dataframe thead th {\n        text-align: right;\n    }\n</style>\n<table border=\"1\" class=\"dataframe\">\n  <thead>\n    <tr style=\"text-align: right;\">\n      <th></th>\n      <th>event_id</th>\n      <th>azimuth</th>\n      <th>zenith</th>\n    </tr>\n  </thead>\n  <tbody>\n    <tr>\n      <th>0</th>\n      <td>2092</td>\n      <td>1</td>\n      <td>1</td>\n    </tr>\n    <tr>\n      <th>1</th>\n      <td>7344</td>\n      <td>1</td>\n      <td>1</td>\n    </tr>\n    <tr>\n      <th>2</th>\n      <td>9482</td>\n      <td>1</td>\n      <td>1</td>\n    </tr>\n  </tbody>\n</table>\n</div>"
     },
     "metadata": {}
    }
   ]
  },
  {
   "cell_type": "code",
   "source": [
    "train.head()"
   ],
   "metadata": {
    "execution": {
     "iopub.status.busy": "2023-09-06T08:40:38.566705Z",
     "iopub.execute_input": "2023-09-06T08:40:38.567102Z",
     "iopub.status.idle": "2023-09-06T08:40:38.584862Z",
     "shell.execute_reply.started": "2023-09-06T08:40:38.567070Z",
     "shell.execute_reply": "2023-09-06T08:40:38.583503Z"
    },
    "trusted": true
   },
   "execution_count": 9,
   "outputs": [
    {
     "execution_count": 9,
     "output_type": "execute_result",
     "data": {
      "text/plain": "          sensor_id   time  charge  auxiliary\nevent_id                                     \n29296372       2599  29807   1.125       True\n29296372        711  30746   1.125       True\n29296372         14  31649   1.225       True\n29296372       5070  31890   0.725       True\n29296372       5076  32030   0.625       True",
      "text/html": "<div>\n<style scoped>\n    .dataframe tbody tr th:only-of-type {\n        vertical-align: middle;\n    }\n\n    .dataframe tbody tr th {\n        vertical-align: top;\n    }\n\n    .dataframe thead th {\n        text-align: right;\n    }\n</style>\n<table border=\"1\" class=\"dataframe\">\n  <thead>\n    <tr style=\"text-align: right;\">\n      <th></th>\n      <th>sensor_id</th>\n      <th>time</th>\n      <th>charge</th>\n      <th>auxiliary</th>\n    </tr>\n    <tr>\n      <th>event_id</th>\n      <th></th>\n      <th></th>\n      <th></th>\n      <th></th>\n    </tr>\n  </thead>\n  <tbody>\n    <tr>\n      <th>29296372</th>\n      <td>2599</td>\n      <td>29807</td>\n      <td>1.125</td>\n      <td>True</td>\n    </tr>\n    <tr>\n      <th>29296372</th>\n      <td>711</td>\n      <td>30746</td>\n      <td>1.125</td>\n      <td>True</td>\n    </tr>\n    <tr>\n      <th>29296372</th>\n      <td>14</td>\n      <td>31649</td>\n      <td>1.225</td>\n      <td>True</td>\n    </tr>\n    <tr>\n      <th>29296372</th>\n      <td>5070</td>\n      <td>31890</td>\n      <td>0.725</td>\n      <td>True</td>\n    </tr>\n    <tr>\n      <th>29296372</th>\n      <td>5076</td>\n      <td>32030</td>\n      <td>0.625</td>\n      <td>True</td>\n    </tr>\n  </tbody>\n</table>\n</div>"
     },
     "metadata": {}
    }
   ]
  },
  {
   "cell_type": "code",
   "source": [],
   "metadata": {},
   "execution_count": null,
   "outputs": []
  },
  {
   "cell_type": "code",
   "source": [
    "print(test)\n",
    "print(test.info())"
   ],
   "metadata": {
    "execution": {
     "iopub.status.busy": "2023-09-06T09:19:47.092250Z",
     "iopub.execute_input": "2023-09-06T09:19:47.092632Z",
     "iopub.status.idle": "2023-09-06T09:19:47.107061Z",
     "shell.execute_reply.started": "2023-09-06T09:19:47.092602Z",
     "shell.execute_reply": "2023-09-06T09:19:47.105867Z"
    },
    "trusted": true
   },
   "execution_count": 27,
   "outputs": [
    {
     "name": "stdout",
     "text": "   event_id  azimuth  zenith\n0      2092        1       1\n1      7344        1       1\n2      9482        1       1\n<class 'pandas.core.frame.DataFrame'>\nRangeIndex: 3 entries, 0 to 2\nData columns (total 3 columns):\n #   Column    Non-Null Count  Dtype\n---  ------    --------------  -----\n 0   event_id  3 non-null      Int64\n 1   azimuth   3 non-null      int64\n 2   zenith    3 non-null      int64\ndtypes: Int64(1), int64(2)\nmemory usage: 203.0 bytes\nNone\n",
     "output_type": "stream"
    }
   ]
  },
  {
   "cell_type": "code",
   "source": [
    "sensor_geometry = pd.read_csv('/kaggle/input/icecube-neutrinos-in-deep-ice/sensor_geometry.csv')\n",
    "sensor_geometry.head()"
   ],
   "metadata": {
    "execution": {
     "iopub.status.busy": "2023-09-06T08:04:52.022201Z",
     "iopub.execute_input": "2023-09-06T08:04:52.022629Z",
     "iopub.status.idle": "2023-09-06T08:04:52.053380Z",
     "shell.execute_reply.started": "2023-09-06T08:04:52.022591Z",
     "shell.execute_reply": "2023-09-06T08:04:52.052498Z"
    },
    "trusted": true
   },
   "execution_count": 5,
   "outputs": [
    {
     "execution_count": 5,
     "output_type": "execute_result",
     "data": {
      "text/plain": "   sensor_id       x       y       z\n0          0 -256.14 -521.08  496.03\n1          1 -256.14 -521.08  479.01\n2          2 -256.14 -521.08  461.99\n3          3 -256.14 -521.08  444.97\n4          4 -256.14 -521.08  427.95",
      "text/html": "<div>\n<style scoped>\n    .dataframe tbody tr th:only-of-type {\n        vertical-align: middle;\n    }\n\n    .dataframe tbody tr th {\n        vertical-align: top;\n    }\n\n    .dataframe thead th {\n        text-align: right;\n    }\n</style>\n<table border=\"1\" class=\"dataframe\">\n  <thead>\n    <tr style=\"text-align: right;\">\n      <th></th>\n      <th>sensor_id</th>\n      <th>x</th>\n      <th>y</th>\n      <th>z</th>\n    </tr>\n  </thead>\n  <tbody>\n    <tr>\n      <th>0</th>\n      <td>0</td>\n      <td>-256.14</td>\n      <td>-521.08</td>\n      <td>496.03</td>\n    </tr>\n    <tr>\n      <th>1</th>\n      <td>1</td>\n      <td>-256.14</td>\n      <td>-521.08</td>\n      <td>479.01</td>\n    </tr>\n    <tr>\n      <th>2</th>\n      <td>2</td>\n      <td>-256.14</td>\n      <td>-521.08</td>\n      <td>461.99</td>\n    </tr>\n    <tr>\n      <th>3</th>\n      <td>3</td>\n      <td>-256.14</td>\n      <td>-521.08</td>\n      <td>444.97</td>\n    </tr>\n    <tr>\n      <th>4</th>\n      <td>4</td>\n      <td>-256.14</td>\n      <td>-521.08</td>\n      <td>427.95</td>\n    </tr>\n  </tbody>\n</table>\n</div>"
     },
     "metadata": {}
    }
   ]
  },
  {
   "cell_type": "code",
   "source": [
    "train =  pd.read_parquet('/kaggle/input/icecube-neutrinos-in-deep-ice/train/batch_1.parquet')\n",
    "print(train)\n",
    "print(train.info())"
   ],
   "metadata": {
    "execution": {
     "iopub.status.busy": "2023-09-06T09:20:46.113759Z",
     "iopub.execute_input": "2023-09-06T09:20:46.115047Z",
     "iopub.status.idle": "2023-09-06T09:20:47.403852Z",
     "shell.execute_reply.started": "2023-09-06T09:20:46.115007Z",
     "shell.execute_reply": "2023-09-06T09:20:47.403012Z"
    },
    "trusted": true
   },
   "execution_count": 28,
   "outputs": [
    {
     "name": "stdout",
     "text": "          sensor_id   time  charge  auxiliary\nevent_id                                     \n24             3918   5928   1.325       True\n24             4157   6115   1.175       True\n24             3520   6492   0.925       True\n24             5041   6665   0.225       True\n24             2948   8054   1.575       True\n...             ...    ...     ...        ...\n3266196        1961  17617   0.975       True\n3266196          36  17705   0.625       True\n3266196         356  18192   0.725       True\n3266196        2826  18609   0.575       True\n3266196        5013  18741   1.375       True\n\n[32792416 rows x 4 columns]\n<class 'pandas.core.frame.DataFrame'>\nIndex: 32792416 entries, 24 to 3266196\nData columns (total 4 columns):\n #   Column     Dtype  \n---  ------     -----  \n 0   sensor_id  int16  \n 1   time       int64  \n 2   charge     float64\n 3   auxiliary  bool   \ndtypes: bool(1), float64(1), int16(1), int64(1)\nmemory usage: 844.4 MB\nNone\n",
     "output_type": "stream"
    }
   ]
  },
  {
   "cell_type": "code",
   "source": [
    "train =  pd.read_parquet(train_file_paths[0])\n",
    "print(train_file_paths[0]) \n",
    "print(train.info()) "
   ],
   "metadata": {
    "execution": {
     "iopub.status.busy": "2023-09-06T09:14:48.283488Z",
     "iopub.execute_input": "2023-09-06T09:14:48.283943Z",
     "iopub.status.idle": "2023-09-06T09:14:49.569210Z",
     "shell.execute_reply.started": "2023-09-06T09:14:48.283907Z",
     "shell.execute_reply": "2023-09-06T09:14:49.568167Z"
    },
    "trusted": true
   },
   "execution_count": 24,
   "outputs": [
    {
     "name": "stdout",
     "text": "/kaggle/input/icecube-neutrinos-in-deep-ice/train/batch_1.parquet\n<class 'pandas.core.frame.DataFrame'>\nIndex: 32792416 entries, 24 to 3266196\nData columns (total 4 columns):\n #   Column     Dtype  \n---  ------     -----  \n 0   sensor_id  int16  \n 1   time       int64  \n 2   charge     float64\n 3   auxiliary  bool   \ndtypes: bool(1), float64(1), int16(1), int64(1)\nmemory usage: 844.4 MB\nNone\n",
     "output_type": "stream"
    }
   ]
  },
  {
   "cell_type": "code",
   "source": [
    "print(train)"
   ],
   "metadata": {
    "execution": {
     "iopub.status.busy": "2023-09-06T09:11:20.943667Z",
     "iopub.execute_input": "2023-09-06T09:11:20.944059Z",
     "iopub.status.idle": "2023-09-06T09:11:20.953866Z",
     "shell.execute_reply.started": "2023-09-06T09:11:20.944028Z",
     "shell.execute_reply": "2023-09-06T09:11:20.952879Z"
    },
    "trusted": true
   },
   "execution_count": 23,
   "outputs": [
    {
     "name": "stdout",
     "text": "          sensor_id   time  charge  auxiliary\nevent_id                                     \n24             3918   5928   1.325       True\n24             4157   6115   1.175       True\n24             3520   6492   0.925       True\n24             5041   6665   0.225       True\n24             2948   8054   1.575       True\n...             ...    ...     ...        ...\n3266196        1961  17617   0.975       True\n3266196          36  17705   0.625       True\n3266196         356  18192   0.725       True\n3266196        2826  18609   0.575       True\n3266196        5013  18741   1.375       True\n\n[32792416 rows x 4 columns]\n",
     "output_type": "stream"
    }
   ]
  },
  {
   "cell_type": "code",
   "source": [
    "train =  pd.read_parquet(train_file_paths[0])\n",
    "#train.head(5)\n",
    "print(train.loc[[24, 3266196]])"
   ],
   "metadata": {
    "execution": {
     "iopub.status.busy": "2023-09-06T09:32:34.560941Z",
     "iopub.execute_input": "2023-09-06T09:32:34.561447Z",
     "iopub.status.idle": "2023-09-06T09:32:36.243174Z",
     "shell.execute_reply.started": "2023-09-06T09:32:34.561413Z",
     "shell.execute_reply": "2023-09-06T09:32:36.241912Z"
    },
    "trusted": true
   },
   "execution_count": 42,
   "outputs": [
    {
     "name": "stdout",
     "text": "          sensor_id   time  charge  auxiliary\nevent_id                                     \n24             3918   5928   1.325       True\n24             4157   6115   1.175       True\n24             3520   6492   0.925       True\n24             5041   6665   0.225       True\n24             2948   8054   1.575       True\n...             ...    ...     ...        ...\n3266196        1961  17617   0.975       True\n3266196          36  17705   0.625       True\n3266196         356  18192   0.725       True\n3266196        2826  18609   0.575       True\n3266196        5013  18741   1.375       True\n\n[197 rows x 4 columns]\n",
     "output_type": "stream"
    }
   ]
  },
  {
   "cell_type": "code",
   "source": [],
   "metadata": {},
   "execution_count": null,
   "outputs": []
  }
 ]
}
